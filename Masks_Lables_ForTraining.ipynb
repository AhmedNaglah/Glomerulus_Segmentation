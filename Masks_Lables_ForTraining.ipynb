{
 "cells": [
  {
   "cell_type": "code",
   "execution_count": null,
   "id": "74458d74-c3fe-4f61-b8fc-3362b2f0fd7e",
   "metadata": {},
   "outputs": [],
   "source": [
    "# This code will convert the xml annotations into the binary image of same size as original image"
   ]
  },
  {
   "cell_type": "code",
   "execution_count": 17,
   "id": "25cbb058-4c9a-43ae-a900-b78d1674d69f",
   "metadata": {
    "tags": []
   },
   "outputs": [],
   "source": [
    "## Load Libraries\n",
    "%matplotlib inline\n",
    "from openslide import open_slide\n",
    "from openslide.deepzoom import DeepZoomGenerator\n",
    "import numpy as np\n",
    "import cv2 as cv\n",
    "from matplotlib import pyplot as plt\n",
    "import os\n",
    "import tifffile as tiff\n"
   ]
  },
  {
   "cell_type": "code",
   "execution_count": 44,
   "id": "ff6a1e9b-d27e-4484-b585-b58f9ae0b5e9",
   "metadata": {},
   "outputs": [
    {
     "name": "stdout",
     "output_type": "stream",
     "text": [
      "size: (9920, 18816)\n",
      "Total no of tile: (39680, 75264)\n",
      "tile level: 18\n",
      "tile level something: ((1, 1), (1, 1), (1, 1), (1, 1), (1, 1), (1, 1), (1, 1), (1, 1), (1, 1), (1, 1), (1, 2), (2, 3), (3, 5), (5, 10), (10, 19), (20, 37), (39, 74), (78, 147))\n",
      "tile coordinates: <bound method DeepZoomGenerator.get_tile_coordinates of DeepZoomGenerator(OpenSlide('/blue/pinaki.sarder/akshitagupta/MicrovascularInf/Model_Development/Training/Data/S08-28411 - 2015-06-29 11.19.06.ndpi'), tile_size=512, overlap=0, limit_bounds=False)>\n"
     ]
    }
   ],
   "source": [
    "## Total Number of tiles generated at all the levels\n",
    "image = open_slide(\"/blue/pinaki.sarder/akshitagupta/MicrovascularInf/Model_Development/Training/Data/S08-28411 - 2015-06-29 11.19.06.ndpi\")\n",
    "tiles = DeepZoomGenerator(image,tile_size =512,overlap=0,limit_bounds=False)\n",
    "print('size:', image.level_dimensions[2])\n",
    "print('Total no of tile:', image.dimensions)\n",
    "print('tile level:',tiles.level_count)\n",
    "print('tile level something:', tiles.level_tiles)\n",
    "print('tile coordinates:', tiles.get_tile_coordinates)"
   ]
  },
  {
   "cell_type": "code",
   "execution_count": 19,
   "id": "16e82c02-96d9-4bf7-8a07-010fbb025987",
   "metadata": {
    "tags": []
   },
   "outputs": [],
   "source": [
    "## Read the xml file and convert the polygons into the binary map\n",
    "import xml.etree.ElementTree as ET\n",
    "import math\n",
    "from PIL import Image, ImageDraw\n",
    "\n",
    "tree = None"
   ]
  },
  {
   "cell_type": "code",
   "execution_count": null,
   "id": "23586c06-9d14-469e-92d7-d682d6921747",
   "metadata": {
    "tags": []
   },
   "outputs": [],
   "source": [
    "if tree == None:\n",
    "    tree = ET.parse(\"/blue/pinaki.sarder/akshitagupta/MicrovascularInf/Model_Development/Training/S15-56749CD34LCA.xml\")\n",
    "root = tree.getroot()\n",
    "print(root)\n",
    "img_size = image.level_dimensions[2]\n",
    "print(img_size)\n",
    "im = np.zeros((img_size[1],img_size[0]),dtype=np.uint8)\n",
    "im = np.array(im)\n",
    "cv.imwrite(\"your_file.jpeg\",im)\n",
    "\n",
    "## Iterate over the xml files\n",
    "for Annotation in root.findall(\"./Annotation\"): # for all annotations\n",
    "    annotationID = Annotation.attrib['Id']\n",
    "    #print(annotationID)\n",
    "    for Region in Annotation.findall(\"./Regions/Region\"): # iterate on all region\n",
    "        regionID = Region.attrib['Id']\n",
    "        print(regionID)\n",
    "        points = []\n",
    "        for Vertex in Region.findall(\"./Vertices/Vertex\"):\n",
    "            points.append([int(float(Vertex.attrib['X'])/factor),int(float(Vertex.attrib['Y'])/factor)])\n",
    "        points = np.array(points)    \n",
    "        #print(points)\n",
    "        cv.fillConvexPoly(im, np.array(points, 'int32'), 255)\n",
    "mask = Image.fromarray(im)\n",
    "mask.save(\"your_file.jpeg\")\n",
    "#print(mask.size)\n",
    "#cv.imwrite('mask.tiff',im)\n"
   ]
  },
  {
   "cell_type": "code",
   "execution_count": null,
   "id": "5461ff66-019d-4f7b-aa89-67360e671d87",
   "metadata": {},
   "outputs": [],
   "source": [
    "### Extract patches from the binary mask and same mask from the WSI"
   ]
  },
  {
   "cell_type": "code",
   "execution_count": 7,
   "id": "92a84f5a-c8c6-41ff-88f0-5d0c5c328b71",
   "metadata": {
    "tags": []
   },
   "outputs": [],
   "source": [
    "#%matplotlib inline\n",
    "import numpy as np\n",
    "import matplotlib.pyplot as plt\n",
    "import cv2 as cv\n",
    "import os\n",
    "import openslide\n",
    "import xml.etree.cElementTree as ET\n",
    "import random\n",
    "import os \n",
    "import glob\n",
    "from PIL import Image"
   ]
  },
  {
   "cell_type": "code",
   "execution_count": 8,
   "id": "7c35303a-dfa8-4d20-8542-bc1ba2c5bc50",
   "metadata": {},
   "outputs": [],
   "source": [
    "slidepath = \"/blue/pinaki.sarder/akshitagupta/MicrovascularInf/Model_Development/Data_PTC\"  #path to folder of WSIs\n",
    "annotpath = \"/blue/pinaki.sarder/akshitagupta/MicrovascularInf/Model_Development/Data_PTC\" \n",
    "slidename = \"S10-69161CD34LCA.ndpi\"\n",
    "annotname = \"S10-69161CD34LCA.xml\""
   ]
  },
  {
   "cell_type": "code",
   "execution_count": 9,
   "id": "4bef7ee4-4dc5-4452-8fa5-083b69f40630",
   "metadata": {
    "tags": []
   },
   "outputs": [],
   "source": [
    "mag_level = 2               # here I am reading the WSI at level 2\n",
    "factor = 2**mag_level"
   ]
  },
  {
   "cell_type": "code",
   "execution_count": 10,
   "id": "f5874d85-02f2-4845-a130-9a9449c1d14b",
   "metadata": {},
   "outputs": [],
   "source": [
    "def parse_xml(im,anno_path):\n",
    "    tree = ET.ElementTree(file=anno_path)\n",
    "    annolist={}\n",
    "    root = tree.getroot()\n",
    "    i = 0\n",
    "    mag_level = 2               # here I am reading the WSI at level 2\n",
    "    factor = 2**mag_level\n",
    "    for Annotation in root.findall(\"./Annotation\"):\n",
    "        annotationID = Annotation.attrib['Id']\n",
    "        for Region in Annotation.findall(\"./Regions/Region\"): # iterate on all region\n",
    "            regionID = Region.attrib['Id']\n",
    "            #print(regionID)\n",
    "            vasc = []\n",
    "            for coord in Region.findall(\"./Vertices/Vertex\"):\n",
    "                vasc.append([int(float(coord.attrib.get(\"X\"))/factor),int(float(coord.attrib.get(\"Y\"))/factor)])\n",
    "            annolist[i] = vasc\n",
    "            i+=1\n",
    "            points = np.array(vasc)   \n",
    "            #print(points)\n",
    "            cv.fillConvexPoly(im, np.array(points, 'int32'), 255)\n",
    "    #im = np.asarray(im)\n",
    "    cv.imwrite(\"mask.jpeg\",im)\n",
    "    return (annolist,im)"
   ]
  },
  {
   "cell_type": "code",
   "execution_count": 11,
   "id": "37a7266e-5c75-4932-9463-ada6df5b0da5",
   "metadata": {
    "tags": []
   },
   "outputs": [],
   "source": [
    "def generate_patches(slidepath,slidename,annotpath, annotname, patch_size):\n",
    "    slide_path = os.path.join(slidepath, slidename)\n",
    "    anno_path = os.path.join(annotpath,annotname)\n",
    "    Slide = openslide.OpenSlide(slide_path)\n",
    "    img_size = Slide.level_dimensions[2]\n",
    "    print(img_size)\n",
    "    im = np.zeros((img_size[1],img_size[0]),dtype=np.uint8)\n",
    "    #im = (Image.new('1', (img_size[1], img_size[0])))\n",
    "    im = np.array(im)\n",
    "    print(im.shape)\n",
    "\n",
    "    annolist, mask = parse_xml(im,anno_path)\n",
    "    print(mask)\n",
    "    #print(mask.size)\n",
    "    #print(annolist) \n",
    "    for i in range(len(annolist)):                   \n",
    "        coords = np.array(annolist[i])\n",
    "        #print(coords)\n",
    "        x, y, w, h = cv.boundingRect(coords)\n",
    "        #print(x,y,w,h)\n",
    "        for k in range(20):                        \n",
    "            offsetx = random.randrange(-100, 100)\n",
    "            offsety = random.randrange(-100, 100)\n",
    "            spointx, spointy = x + offsetx, y + offsety \n",
    "            #top left coords of patch bounding box in mlevel\n",
    "            spointx0, spointy0 = spointx*factor, spointy*factor #multipled by factor to get the original co-ordinates as in WSI and not the as per the level \n",
    "            patchimg = Slide.read_region((spointx0, spointy0), 2, (patch_size, patch_size))\n",
    "            #print(spointx0, spointy0)\n",
    "            #cv2.rectangle(imgResize,([spointx0,spointx0+patch_size),(spointy0,spointy0+patch_size),(255,0,0),2)\n",
    "            #roi = mask[10:1000, 10:1000]\n",
    "            roi = mask[spointy:spointy+patch_size,spointx:spointx+patch_size]\n",
    "            cv.imwrite(f\"/blue/pinaki.sarder/akshitagupta/MicrovascularInf/Model_Development/Training_PTC/masks/ptc_1_{str(i)}{str(k)}.png\", np.array(roi))\n",
    "            cv.imwrite(f\"/blue/pinaki.sarder/akshitagupta/MicrovascularInf/Model_Development/Training_PTC/images/ptc_1_{str(i)}{str(k)}.png\", np.array(patchimg))\n",
    "            #print('hey thr!! Almost got it')"
   ]
  },
  {
   "cell_type": "code",
   "execution_count": 12,
   "id": "3d261380-c3de-4da3-ae41-27e7bcbfc61f",
   "metadata": {
    "tags": []
   },
   "outputs": [
    {
     "name": "stdout",
     "output_type": "stream",
     "text": [
      "(20480, 12544)\n",
      "(12544, 20480)\n",
      "[[0 0 0 ... 0 0 0]\n",
      " [0 0 0 ... 0 0 0]\n",
      " [0 0 0 ... 0 0 0]\n",
      " ...\n",
      " [0 0 0 ... 0 0 0]\n",
      " [0 0 0 ... 0 0 0]\n",
      " [0 0 0 ... 0 0 0]]\n"
     ]
    }
   ],
   "source": [
    "generate_patches(slidepath,slidename,annotpath, annotname, 512)"
   ]
  },
  {
   "cell_type": "code",
   "execution_count": null,
   "id": "e9ea9413-087d-4b91-8c21-bfaa454689ee",
   "metadata": {},
   "outputs": [],
   "source": []
  }
 ],
 "metadata": {
  "kernelspec": {
   "display_name": "ML-env",
   "language": "python",
   "name": "ml_env"
  },
  "language_info": {
   "codemirror_mode": {
    "name": "ipython",
    "version": 3
   },
   "file_extension": ".py",
   "mimetype": "text/x-python",
   "name": "python",
   "nbconvert_exporter": "python",
   "pygments_lexer": "ipython3",
   "version": "3.11.2"
  }
 },
 "nbformat": 4,
 "nbformat_minor": 5
}
